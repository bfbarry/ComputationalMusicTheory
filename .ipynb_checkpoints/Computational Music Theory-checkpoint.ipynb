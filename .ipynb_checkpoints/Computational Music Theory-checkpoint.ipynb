{
 "cells": [
  {
   "cell_type": "code",
   "execution_count": 20,
   "metadata": {},
   "outputs": [],
   "source": [
    "import pandas as pd\n",
    "import numpy as np\n",
    "import networkx as nx\n",
    "import random"
   ]
  },
  {
   "cell_type": "code",
   "execution_count": 76,
   "metadata": {},
   "outputs": [],
   "source": [
    "import matplotlib.pyplot as plt"
   ]
  },
  {
   "cell_type": "markdown",
   "metadata": {},
   "source": [
    "# IDEAS\n",
    "- implement chroma vector\n",
    "- chord graph\n",
    "- Given a random chord, what is its hamming distance from a nice, normal chord?\n",
    "    - Like how many steps do you have to take to get to a nice chord?\n",
    "    - How does this differ depending on the number of notes? (2 notes will always be \"nice\")  What about the range on the keyboard?\n",
    "    - Extent to what 'nice' sounds like\n",
    "        -some jazz chords sound harsh\n",
    "    - find probability distribution of this number\n",
    "    \n",
    "# Pipeline\n",
    "- create a function to create a certain chord, put that in an object?\n",
    "- Construct a 'harmony graph' where each edge is a half step from another chord \n",
    "    - How to deal with adding notes? A graph for each chord number?  Won't this just be a k connected graph? Think about how to formulate this\n",
    "- What is the most effective way to encode chords? (based on their step structure)\n",
    "- For chord generator, use half steps, or first generate the octave of that key and use whole steps?\n",
    "- When doing the random chord generator, how to account for identifying real chords (note numbers will span multiple octaves)?  \n",
    "    - Real chords will probably be object oriented\n",
    "- There are this many chords: triads (12 * 2 * 3) + quads (12 * 5 * 4)"
   ]
  },
  {
   "cell_type": "code",
   "execution_count": null,
   "metadata": {},
   "outputs": [],
   "source": [
    "rhythms = [4.4, 4.3]\n",
    "\n",
    "chords = []\n",
    "\n",
    "rock_rhytms = []\n",
    "\n",
    "\n",
    "jazz_char = {rhythm: jazz_rhythms, chords: jazz_chords}\n",
    "jazz_rhythms = []\n",
    "jazz_chords = ['m6', 'M6','M7', 'm7', 'ADD9']"
   ]
  },
  {
   "cell_type": "code",
   "execution_count": null,
   "metadata": {},
   "outputs": [],
   "source": [
    "#Incorporate all notes and respective frequencies dict to dataframe: cols for notes, rows for freq @ number \n",
    "\n",
    "notes_freqs = {'A': [[0, ]]}\n",
    "\n",
    "\n",
    "\n",
    "df = pandas.dataframe()\n",
    "\n"
   ]
  },
  {
   "cell_type": "code",
   "execution_count": null,
   "metadata": {},
   "outputs": [],
   "source": [
    "def id_chord(notes):\n",
    "    "
   ]
  },
  {
   "cell_type": "markdown",
   "metadata": {},
   "source": [
    "does each note have some conserved sound property through octaves?\n",
    "- Might be useful for general chord types not depending on the octave the notes are in"
   ]
  },
  {
   "cell_type": "code",
   "execution_count": null,
   "metadata": {},
   "outputs": [],
   "source": [
    "class note(object):\n",
    "    def __init__(self, notes):\n",
    "        \n",
    "\n",
    "class chord(note):\n",
    "    def __init__(self, key=None, chord=None, key_range=None, rand_num=None):\n",
    "        self.key = key\n",
    "        self.chord = chord\n",
    "        if key_range != None:\n",
    "            \n",
    "            \n",
    "        \n",
    "    def getChordType(self, notes):\n",
    "        \n",
    "class genre(object):\n",
    "    #has lists of chords used \n",
    "    \n",
    "class instrument"
   ]
  },
  {
   "cell_type": "markdown",
   "metadata": {},
   "source": [
    "# maybe make the frequency generator a function (and also make a note generator func) so we don't need a dictionary and it can be continuous\n"
   ]
  },
  {
   "cell_type": "code",
   "execution_count": null,
   "metadata": {},
   "outputs": [],
   "source": [
    "# From http://subsynth.sourceforge.net/freqsnote2freq.html\n",
    "\n",
    "freqs = [] \n",
    "a = 440\n",
    "for i in np.arange(12,120):\n",
    "    freqs.append( a/32 * (2**((i-9)/12)) )"
   ]
  },
  {
   "cell_type": "code",
   "execution_count": 78,
   "metadata": {},
   "outputs": [
    {
     "data": {
      "text/plain": [
       "[<matplotlib.lines.Line2D at 0xa1d81c590>]"
      ]
     },
     "execution_count": 78,
     "metadata": {},
     "output_type": "execute_result"
    },
    {
     "data": {
      "image/png": "[encoded data removed]",
      "text/plain": [
       "<Figure size 432x288 with 1 Axes>"
      ]
     },
     "metadata": {
      "needs_background": "light"
     },
     "output_type": "display_data"
    }
   ],
   "source": [
    "plt.plot(np.arange(12,120), freqs)"
   ]
  },
  {
   "cell_type": "code",
   "execution_count": 30,
   "metadata": {},
   "outputs": [],
   "source": [
    "keys = ['C','Db','D','Eb','E','F','Gb','G','Ab','A','Bb','B']\n",
    "notes = []\n",
    "#notes is 108 long\n",
    "for n in np.arange(9):\n",
    "    for i in keys:\n",
    "        notes.append(i + '_'+str(n))"
   ]
  },
  {
   "cell_type": "code",
   "execution_count": 38,
   "metadata": {
    "scrolled": true
   },
   "outputs": [
    {
     "data": {
      "text/plain": [
       "{'C_0': 16.351597831287414,\n",
       " 'Db_0': 17.323914436054505,\n",
       " 'D_0': 18.354047994837973,\n",
       " 'Eb_0': 19.445436482630058,\n",
       " 'E_0': 20.60172230705437,\n",
       " 'F_0': 21.826764464562743,\n",
       " 'Gb_0': 23.12465141947715,\n",
       " 'G_0': 24.49971474885933,\n",
       " 'Ab_0': 25.95654359874657,\n",
       " 'A_0': 27.5,\n",
       " 'Bb_0': 29.13523509488062,\n",
       " 'B_0': 30.867706328507758,\n",
       " 'C_1': 32.70319566257483,\n",
       " 'Db_1': 34.64782887210901,\n",
       " 'D_1': 36.70809598967595,\n",
       " 'Eb_1': 38.890872965260115,\n",
       " 'E_1': 41.20344461410874,\n",
       " 'F_1': 43.653528929125486,\n",
       " 'Gb_1': 46.2493028389543,\n",
       " 'G_1': 48.99942949771866,\n",
       " 'Ab_1': 51.91308719749314,\n",
       " 'A_1': 55.0,\n",
       " 'Bb_1': 58.27047018976124,\n",
       " 'B_1': 61.7354126570155,\n",
       " 'C_2': 65.40639132514966,\n",
       " 'Db_2': 69.29565774421802,\n",
       " 'D_2': 73.41619197935188,\n",
       " 'Eb_2': 77.78174593052023,\n",
       " 'E_2': 82.4068892282175,\n",
       " 'F_2': 87.30705785825097,\n",
       " 'Gb_2': 92.4986056779086,\n",
       " 'G_2': 97.99885899543733,\n",
       " 'Ab_2': 103.82617439498628,\n",
       " 'A_2': 110.0,\n",
       " 'Bb_2': 116.54094037952248,\n",
       " 'B_2': 123.470825314031,\n",
       " 'C_3': 130.8127826502993,\n",
       " 'Db_3': 138.59131548843604,\n",
       " 'D_3': 146.83238395870376,\n",
       " 'Eb_3': 155.56349186104046,\n",
       " 'E_3': 164.813778456435,\n",
       " 'F_3': 174.61411571650194,\n",
       " 'Gb_3': 184.9972113558172,\n",
       " 'G_3': 195.99771799087466,\n",
       " 'Ab_3': 207.65234878997256,\n",
       " 'A_3': 220.0,\n",
       " 'Bb_3': 233.0818807590449,\n",
       " 'B_3': 246.94165062806212,\n",
       " 'C_4': 261.6255653005986,\n",
       " 'Db_4': 277.1826309768721,\n",
       " 'D_4': 293.66476791740763,\n",
       " 'Eb_4': 311.1269837220809,\n",
       " 'E_4': 329.62755691286986,\n",
       " 'F_4': 349.22823143300394,\n",
       " 'Gb_4': 369.9944227116344,\n",
       " 'G_4': 391.9954359817492,\n",
       " 'Ab_4': 415.3046975799452,\n",
       " 'A_4': 440.0,\n",
       " 'Bb_4': 466.1637615180898,\n",
       " 'B_4': 493.88330125612424,\n",
       " 'C_5': 523.2511306011972,\n",
       " 'Db_5': 554.3652619537442,\n",
       " 'D_5': 587.3295358348153,\n",
       " 'Eb_5': 622.2539674441618,\n",
       " 'E_5': 659.2551138257397,\n",
       " 'F_5': 698.4564628660079,\n",
       " 'Gb_5': 739.9888454232688,\n",
       " 'G_5': 783.9908719634984,\n",
       " 'Ab_5': 830.6093951598904,\n",
       " 'A_5': 880.0,\n",
       " 'Bb_5': 932.3275230361796,\n",
       " 'B_5': 987.7666025122485,\n",
       " 'C_6': 1046.5022612023945,\n",
       " 'Db_6': 1108.7305239074883,\n",
       " 'D_6': 1174.6590716696305,\n",
       " 'Eb_6': 1244.5079348883237,\n",
       " 'E_6': 1318.5102276514795,\n",
       " 'F_6': 1396.9129257320158,\n",
       " 'Gb_6': 1479.9776908465376,\n",
       " 'G_6': 1567.9817439269968,\n",
       " 'Ab_6': 1661.2187903197807,\n",
       " 'A_6': 1760.0,\n",
       " 'Bb_6': 1864.6550460723593,\n",
       " 'B_6': 1975.533205024497,\n",
       " 'C_7': 2093.004522404789,\n",
       " 'Db_7': 2217.4610478149766,\n",
       " 'D_7': 2349.318143339261,\n",
       " 'Eb_7': 2489.0158697766474,\n",
       " 'E_7': 2637.020455302959,\n",
       " 'F_7': 2793.8258514640315,\n",
       " 'Gb_7': 2959.955381693075,\n",
       " 'G_7': 3135.9634878539937,\n",
       " 'Ab_7': 3322.4375806395615,\n",
       " 'A_7': 3520.0,\n",
       " 'Bb_7': 3729.3100921447212,\n",
       " 'B_7': 3951.0664100489917,\n",
       " 'C_8': 4186.009044809578,\n",
       " 'Db_8': 4434.922095629955,\n",
       " 'D_8': 4698.636286678519,\n",
       " 'Eb_8': 4978.031739553295,\n",
       " 'E_8': 5274.040910605921,\n",
       " 'F_8': 5587.65170292806,\n",
       " 'Gb_8': 5919.91076338615,\n",
       " 'G_8': 6271.926975707992,\n",
       " 'Ab_8': 6644.875161279119,\n",
       " 'A_8': 7040.0,\n",
       " 'Bb_8': 7458.6201842894425,\n",
       " 'B_8': 7902.132820097983}"
      ]
     },
     "execution_count": 38,
     "metadata": {},
     "output_type": "execute_result"
    }
   ],
   "source": [
    "key_dict = dictionary = dict(zip(notes, freqs))\n",
    "key_dict"
   ]
  },
  {
   "cell_type": "code",
   "execution_count": 71,
   "metadata": {},
   "outputs": [],
   "source": [
    "def make_notes(note, key):\n",
    "    \"\"\"\n",
    "    Make notes for a given key\n",
    "    \"\"\"\n",
    "    #all the half steps in a key\n",
    "    key_intervals =  {'M': [2,2,2]}\n",
    "    if key == 'Major':\n",
    "        return None\n",
    "\n",
    "def generate_chord_ind(chord, half_steps):\n",
    "    for i in half_steps:\n",
    "        chord.append(chord[-1] + i)\n",
    "        \n",
    "\n",
    "def make_chord(note, chord_type, inversion = None):\n",
    "    \"\"\"\n",
    "\n",
    "    \"\"\"\n",
    "    #do we need to keep a general (octave blind) case?\n",
    "    chord = [notes.index(note)]\n",
    "    chord_steps = {'M':[4,3], 'm':[3,4], '7':[4,3,3], 'maj7':[4,3,4], 'm7':[3,4,3]}\n",
    "    \n",
    "    if chord_type == 'M':\n",
    "        generate_chord_ind(chord, chord_steps['M'])\n",
    "        \n",
    "    elif chord_type == 'm':\n",
    "        generate_chord_ind(chord, chord_steps['m'])\n",
    "        \n",
    "    elif chord_type == '7':\n",
    "        generate_chord_ind(chord, chord_steps['7'])\n",
    "    \n",
    "    elif chord_type == 'maj7':\n",
    "        generate_chord_ind(chord, chord_steps['maj7'])\n",
    "        \n",
    "    elif chord_type == 'm7':\n",
    "        generate_chord_ind(chord, chord_steps['m7'])\n",
    "        \n",
    "#     try:\n",
    "#         chord = [keys[i] for i in chord]\n",
    "#     except IndexError:\n",
    "#         for n, i in enumerate(chord):\n",
    "#             if i > 11:\n",
    "#                 chord[n] = i%12\n",
    "#         chord = [keys[i] for i in chord]\n",
    "\n",
    "    chord = [notes[i] for i in chord]\n",
    "    return chord\n",
    "        "
   ]
  },
  {
   "cell_type": "code",
   "execution_count": null,
   "metadata": {},
   "outputs": [],
   "source": [
    "def chord_id(notes):"
   ]
  },
  {
   "cell_type": "code",
   "execution_count": 75,
   "metadata": {},
   "outputs": [
    {
     "data": {
      "text/plain": [
       "['C_0', 'E_0', 'G_0', 'B_0']"
      ]
     },
     "execution_count": 75,
     "metadata": {},
     "output_type": "execute_result"
    }
   ],
   "source": [
    "c_maj = make_chord('C_0','maj7')\n",
    "c_maj"
   ]
  },
  {
   "cell_type": "code",
   "execution_count": 77,
   "metadata": {},
   "outputs": [
    {
     "data": {
      "text/plain": [
       "16.351597831287414"
      ]
     },
     "execution_count": 77,
     "metadata": {},
     "output_type": "execute_result"
    }
   ],
   "source": [
    "key_dict['C_0']"
   ]
  },
  {
   "cell_type": "markdown",
   "metadata": {},
   "source": [
    "### Need to scale depending on octave... (a wave of chord starting at C0 is much more zoomed in)"
   ]
  },
  {
   "cell_type": "code",
   "execution_count": 106,
   "metadata": {},
   "outputs": [],
   "source": [
    "def plot_chord_wave(chord):\n",
    "    plot_f = [key_dict[i] for i in chord]\n",
    "    x = np.linspace(0,.25,1000)\n",
    "    y =np.sum([(1/40)*np.sin(f*x) for f in plot_f],0)\n",
    "    plt.plot(x,y)"
   ]
  },
  {
   "cell_type": "code",
   "execution_count": 125,
   "metadata": {},
   "outputs": [
    {
     "data": {
      "image/png": "[encoded data removed]",
      "text/plain": [
       "<Figure size 432x288 with 1 Axes>"
      ]
     },
     "metadata": {
      "needs_background": "light"
     },
     "output_type": "display_data"
    }
   ],
   "source": [
    "plot_chord_wave(random_chord(4,['A_0','F_5']) )"
   ]
  },
  {
   "cell_type": "code",
   "execution_count": 121,
   "metadata": {},
   "outputs": [],
   "source": [
    "def random_chord(num,key_range):\n",
    "    # need to implement case for out of range\n",
    "    start_i = notes.index(key_range[0]); stop_i = notes.index(key_range[1]) + 1\n",
    "    ranged_keys = notes[start_i:stop_i]\n",
    "    chord = random.sample(ranged_keys,num)\n",
    "    chord.sort()\n",
    "    return chord"
   ]
  },
  {
   "cell_type": "code",
   "execution_count": 122,
   "metadata": {},
   "outputs": [
    {
     "data": {
      "text/plain": [
       "['A_4', 'Db_5', 'E_5', 'F_5']"
      ]
     },
     "execution_count": 122,
     "metadata": {},
     "output_type": "execute_result"
    }
   ],
   "source": [
    "random_chord(4,['A_4','F_5']) "
   ]
  },
  {
   "cell_type": "code",
   "execution_count": 68,
   "metadata": {},
   "outputs": [
    {
     "data": {
      "text/plain": [
       "'Db'"
      ]
     },
     "execution_count": 68,
     "metadata": {},
     "output_type": "execute_result"
    }
   ],
   "source": [
    "a = 'Db_7'\n",
    "a = a.split('_')[0]\n",
    "a"
   ]
  },
  {
   "cell_type": "code",
   "execution_count": 92,
   "metadata": {},
   "outputs": [
    {
     "data": {
      "text/plain": [
       "array([10, 12, 14])"
      ]
     },
     "execution_count": 92,
     "metadata": {},
     "output_type": "execute_result"
    }
   ],
   "source": [
    "np.sum([[5,6,7],[5,6,7]],0)"
   ]
  }
 ],
 "metadata": {
  "kernelspec": {
   "display_name": "Python 3",
   "language": "python",
   "name": "python3"
  },
  "language_info": {
   "codemirror_mode": {
    "name": "ipython",
    "version": 3
   },
   "file_extension": ".py",
   "mimetype": "text/x-python",
   "name": "python",
   "nbconvert_exporter": "python",
   "pygments_lexer": "ipython3",
   "version": "3.7.4"
  }
 },
 "nbformat": 4,
 "nbformat_minor": 2
}
